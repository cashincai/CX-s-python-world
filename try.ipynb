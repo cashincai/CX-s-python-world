{
 "cells": [
  {
   "cell_type": "code",
   "execution_count": 1,
   "id": "initial_id",
   "metadata": {
    "collapsed": true,
    "ExecuteTime": {
     "end_time": "2024-09-19T11:01:02.145395900Z",
     "start_time": "2024-09-19T11:01:02.130487100Z"
    }
   },
   "outputs": [
    {
     "name": "stdout",
     "output_type": "stream",
     "text": [
      "hello ,world\n"
     ]
    }
   ],
   "source": [
    "print(\"hello ,world\")"
   ]
  },
  {
   "cell_type": "code",
   "outputs": [
    {
     "name": "stdout",
     "output_type": "stream",
     "text": [
      "2 + 3  =  5\n"
     ]
    }
   ],
   "source": [
    "print('2 + 3  = ', 2 + 3)"
   ],
   "metadata": {
    "collapsed": false,
    "ExecuteTime": {
     "end_time": "2024-09-19T11:01:54.610893600Z",
     "start_time": "2024-09-19T11:01:54.577662800Z"
    }
   },
   "id": "eda527e7c37cd7cd",
   "execution_count": 2
  },
  {
   "cell_type": "code",
   "outputs": [
    {
     "name": "stdout",
     "output_type": "stream",
     "text": [
      " 2 + 3 = 5\n"
     ]
    }
   ],
   "source": [
    "print(f' 2 + 3 = { 2 + 3 }')"
   ],
   "metadata": {
    "collapsed": false,
    "ExecuteTime": {
     "end_time": "2024-09-19T11:03:27.686884100Z",
     "start_time": "2024-09-19T11:03:27.645764100Z"
    }
   },
   "id": "10f15468ffe52dc4",
   "execution_count": 3
  },
  {
   "cell_type": "code",
   "outputs": [
    {
     "name": "stdout",
     "output_type": "stream",
     "text": [
      "2+3 = 6\n"
     ]
    }
   ],
   "source": [
    "print(f'2+3 = {3+3}')"
   ],
   "metadata": {
    "collapsed": false,
    "ExecuteTime": {
     "end_time": "2024-09-19T11:04:05.102230600Z",
     "start_time": "2024-09-19T11:04:05.079910800Z"
    }
   },
   "id": "9766cdc910a3a15d",
   "execution_count": 4
  },
  {
   "cell_type": "code",
   "outputs": [
    {
     "name": "stdout",
     "output_type": "stream",
     "text": [
      "hello,{name} !\n"
     ]
    }
   ],
   "source": [
    "name = input(\"what's your name?\")\n",
    "print(f'hello,{name} !')\n"
   ],
   "metadata": {
    "collapsed": false,
    "ExecuteTime": {
     "end_time": "2024-09-20T02:58:50.122769400Z",
     "start_time": "2024-09-20T02:58:47.937949800Z"
    }
   },
   "id": "edfa903aab6e6ba5",
   "execution_count": 1
  },
  {
   "cell_type": "code",
   "outputs": [
    {
     "ename": "TypeError",
     "evalue": "can't multiply sequence by non-int of type 'str'",
     "output_type": "error",
     "traceback": [
      "\u001B[1;31m---------------------------------------------------------------------------\u001B[0m",
      "\u001B[1;31mTypeError\u001B[0m                                 Traceback (most recent call last)",
      "\u001B[1;32m<ipython-input-6-c81cb3127146>\u001B[0m in \u001B[0;36m<module>\u001B[1;34m\u001B[0m\n\u001B[0;32m      1\u001B[0m \u001B[0ma\u001B[0m \u001B[1;33m=\u001B[0m  \u001B[0minput\u001B[0m\u001B[1;33m(\u001B[0m\u001B[1;34m'please input a  number : '\u001B[0m\u001B[1;33m)\u001B[0m\u001B[1;33m\u001B[0m\u001B[1;33m\u001B[0m\u001B[0m\n\u001B[1;32m----> 2\u001B[1;33m \u001B[0mprint\u001B[0m\u001B[1;33m(\u001B[0m\u001B[1;34mf'Square of {a} is {a * a }'\u001B[0m\u001B[1;33m)\u001B[0m\u001B[1;33m\u001B[0m\u001B[1;33m\u001B[0m\u001B[0m\n\u001B[0m",
      "\u001B[1;31mTypeError\u001B[0m: can't multiply sequence by non-int of type 'str'"
     ]
    }
   ],
   "source": [
    "a =  input('please input a  number : ')\n",
    "print(f'Square of {a} is {a * a }')"
   ],
   "metadata": {
    "collapsed": false,
    "ExecuteTime": {
     "end_time": "2024-09-19T11:08:36.384636400Z",
     "start_time": "2024-09-19T11:08:34.435544400Z"
    }
   },
   "id": "3f224d9b2d95b3ff",
   "execution_count": 6
  },
  {
   "cell_type": "code",
   "outputs": [
    {
     "data": {
      "text/plain": "str"
     },
     "execution_count": 7,
     "metadata": {},
     "output_type": "execute_result"
    }
   ],
   "source": [
    "type(a)"
   ],
   "metadata": {
    "collapsed": false,
    "ExecuteTime": {
     "end_time": "2024-09-19T11:09:32.695977800Z",
     "start_time": "2024-09-19T11:09:32.675625400Z"
    }
   },
   "id": "f5404330b3588b88",
   "execution_count": 7
  },
  {
   "cell_type": "code",
   "outputs": [
    {
     "name": "stdout",
     "output_type": "stream",
     "text": [
      "Square of 2.5 is 6.25\n"
     ]
    }
   ],
   "source": [
    "a = float(input('please input a number : '))\n",
    "print(f'Square of {a} is {a*a}')"
   ],
   "metadata": {
    "collapsed": false,
    "ExecuteTime": {
     "end_time": "2024-09-19T11:10:56.936053100Z",
     "start_time": "2024-09-19T11:10:55.301236100Z"
    }
   },
   "id": "8b3b5886a3ecf54",
   "execution_count": 11
  },
  {
   "cell_type": "code",
   "outputs": [
    {
     "data": {
      "text/plain": "4294967296"
     },
     "execution_count": 12,
     "metadata": {},
     "output_type": "execute_result"
    }
   ],
   "source": [
    "2 ** 32"
   ],
   "metadata": {
    "collapsed": false,
    "ExecuteTime": {
     "end_time": "2024-09-19T11:12:26.173027400Z",
     "start_time": "2024-09-19T11:12:26.160628600Z"
    }
   },
   "id": "7e65f8bbffe875b0",
   "execution_count": 12
  },
  {
   "cell_type": "code",
   "outputs": [
    {
     "data": {
      "text/plain": "10715086071862673209484250490600018105614048117055336074437503883703510511249361224931983788156958581275946729175531468251871452856923140435984577574698574803934567774824230985421074605062371141877954182153046474983581941267398767559165543946077062914571196477686542167660429831652624386837205668069376"
     },
     "execution_count": 13,
     "metadata": {},
     "output_type": "execute_result"
    }
   ],
   "source": [
    "2** 1000"
   ],
   "metadata": {
    "collapsed": false,
    "ExecuteTime": {
     "end_time": "2024-09-19T11:13:00.589544500Z",
     "start_time": "2024-09-19T11:13:00.563734200Z"
    }
   },
   "id": "bee7b47bedb4d3f4",
   "execution_count": 13
  },
  {
   "cell_type": "code",
   "outputs": [
    {
     "data": {
      "text/plain": "0.6666666666666666"
     },
     "execution_count": 14,
     "metadata": {},
     "output_type": "execute_result"
    }
   ],
   "source": [
    "2/3\n"
   ],
   "metadata": {
    "collapsed": false,
    "ExecuteTime": {
     "end_time": "2024-09-19T11:13:21.021029600Z",
     "start_time": "2024-09-19T11:13:20.996710400Z"
    }
   },
   "id": "d00459f3cfb5d2f8",
   "execution_count": 14
  },
  {
   "cell_type": "code",
   "outputs": [
    {
     "data": {
      "text/plain": "0"
     },
     "execution_count": 15,
     "metadata": {},
     "output_type": "execute_result"
    }
   ],
   "source": [
    "2//3\n"
   ],
   "metadata": {
    "collapsed": false,
    "ExecuteTime": {
     "end_time": "2024-09-19T11:13:35.055621500Z",
     "start_time": "2024-09-19T11:13:35.023864300Z"
    }
   },
   "id": "1f0e587adb419bd5",
   "execution_count": 15
  },
  {
   "cell_type": "code",
   "outputs": [
    {
     "data": {
      "text/plain": "1"
     },
     "execution_count": 16,
     "metadata": {},
     "output_type": "execute_result"
    }
   ],
   "source": [
    "4%3\n"
   ],
   "metadata": {
    "collapsed": false,
    "ExecuteTime": {
     "end_time": "2024-09-19T11:13:51.800159300Z",
     "start_time": "2024-09-19T11:13:51.771392300Z"
    }
   },
   "id": "8a71e5810b1f301b",
   "execution_count": 16
  },
  {
   "cell_type": "code",
   "outputs": [
    {
     "data": {
      "text/plain": "-1.3333333333333333"
     },
     "execution_count": 17,
     "metadata": {},
     "output_type": "execute_result"
    }
   ],
   "source": [
    "-4/3\n",
    "\n"
   ],
   "metadata": {
    "collapsed": false,
    "ExecuteTime": {
     "end_time": "2024-09-19T11:14:11.166042800Z",
     "start_time": "2024-09-19T11:14:11.158105300Z"
    }
   },
   "id": "8219bf3793f3a417",
   "execution_count": 17
  },
  {
   "cell_type": "code",
   "outputs": [
    {
     "data": {
      "text/plain": "2"
     },
     "execution_count": 18,
     "metadata": {},
     "output_type": "execute_result"
    }
   ],
   "source": [
    "-4%3\n"
   ],
   "metadata": {
    "collapsed": false,
    "ExecuteTime": {
     "end_time": "2024-09-19T11:14:30.001178200Z",
     "start_time": "2024-09-19T11:14:29.992247600Z"
    }
   },
   "id": "12546e9ed46a4f88",
   "execution_count": 18
  },
  {
   "cell_type": "code",
   "outputs": [
    {
     "ename": "SyntaxError",
     "evalue": "invalid token (<ipython-input-19-84337f6d1e17>, line 1)",
     "output_type": "error",
     "traceback": [
      "\u001B[1;36m  File \u001B[1;32m\"<ipython-input-19-84337f6d1e17>\"\u001B[1;36m, line \u001B[1;32m1\u001B[0m\n\u001B[1;33m    0b\u001B[0m\n\u001B[1;37m     ^\u001B[0m\n\u001B[1;31mSyntaxError\u001B[0m\u001B[1;31m:\u001B[0m invalid token\n"
     ]
    }
   ],
   "source": [
    "0b"
   ],
   "metadata": {
    "collapsed": false,
    "ExecuteTime": {
     "end_time": "2024-09-19T11:15:07.015176900Z",
     "start_time": "2024-09-19T11:15:06.975672700Z"
    }
   },
   "id": "bfe12578419b5b5e",
   "execution_count": 19
  },
  {
   "cell_type": "code",
   "outputs": [
    {
     "ename": "SyntaxError",
     "evalue": "invalid token (<ipython-input-20-84337f6d1e17>, line 1)",
     "output_type": "error",
     "traceback": [
      "\u001B[1;36m  File \u001B[1;32m\"<ipython-input-20-84337f6d1e17>\"\u001B[1;36m, line \u001B[1;32m1\u001B[0m\n\u001B[1;33m    0b\u001B[0m\n\u001B[1;37m     ^\u001B[0m\n\u001B[1;31mSyntaxError\u001B[0m\u001B[1;31m:\u001B[0m invalid token\n"
     ]
    }
   ],
   "source": [
    "0b"
   ],
   "metadata": {
    "collapsed": false,
    "ExecuteTime": {
     "end_time": "2024-09-19T11:15:15.169484Z",
     "start_time": "2024-09-19T11:15:15.137737200Z"
    }
   },
   "id": "a1676a49e78171f5",
   "execution_count": 20
  },
  {
   "cell_type": "code",
   "outputs": [
    {
     "data": {
      "text/plain": "10"
     },
     "execution_count": 22,
     "metadata": {},
     "output_type": "execute_result"
    }
   ],
   "source": [
    "0b1010\n"
   ],
   "metadata": {
    "collapsed": false,
    "ExecuteTime": {
     "end_time": "2024-09-19T11:16:06.764128Z",
     "start_time": "2024-09-19T11:16:06.739314200Z"
    }
   },
   "id": "74d9150023e041a6",
   "execution_count": 22
  },
  {
   "cell_type": "code",
   "outputs": [
    {
     "ename": "SyntaxError",
     "evalue": "invalid syntax (<ipython-input-23-d6ede7bd9c01>, line 1)",
     "output_type": "error",
     "traceback": [
      "\u001B[1;36m  File \u001B[1;32m\"<ipython-input-23-d6ede7bd9c01>\"\u001B[1;36m, line \u001B[1;32m1\u001B[0m\n\u001B[1;33m    0a12\u001B[0m\n\u001B[1;37m       ^\u001B[0m\n\u001B[1;31mSyntaxError\u001B[0m\u001B[1;31m:\u001B[0m invalid syntax\n"
     ]
    }
   ],
   "source": [
    "0a12"
   ],
   "metadata": {
    "collapsed": false,
    "ExecuteTime": {
     "end_time": "2024-09-19T11:16:34.960838200Z",
     "start_time": "2024-09-19T11:16:34.939015200Z"
    }
   },
   "id": "f48923dc73b51c60",
   "execution_count": 23
  },
  {
   "cell_type": "code",
   "outputs": [
    {
     "data": {
      "text/plain": "10"
     },
     "execution_count": 24,
     "metadata": {},
     "output_type": "execute_result"
    }
   ],
   "source": [
    "0o12"
   ],
   "metadata": {
    "collapsed": false,
    "ExecuteTime": {
     "end_time": "2024-09-19T11:16:42.004502700Z",
     "start_time": "2024-09-19T11:16:41.990115200Z"
    }
   },
   "id": "c21fb4255d13f0e3",
   "execution_count": 24
  },
  {
   "cell_type": "code",
   "outputs": [
    {
     "data": {
      "text/plain": "8"
     },
     "execution_count": 25,
     "metadata": {},
     "output_type": "execute_result"
    }
   ],
   "source": [
    "pow(2, 3)"
   ],
   "metadata": {
    "collapsed": false,
    "ExecuteTime": {
     "end_time": "2024-09-19T11:17:14.822447900Z",
     "start_time": "2024-09-19T11:17:14.690498Z"
    }
   },
   "id": "4096ea9686d1910f",
   "execution_count": 25
  },
  {
   "cell_type": "code",
   "outputs": [
    {
     "data": {
      "text/plain": "0"
     },
     "execution_count": 26,
     "metadata": {},
     "output_type": "execute_result"
    }
   ],
   "source": [
    "round(1/2)"
   ],
   "metadata": {
    "collapsed": false,
    "ExecuteTime": {
     "end_time": "2024-09-19T11:17:47.274546700Z",
     "start_time": "2024-09-19T11:17:47.230402500Z"
    }
   },
   "id": "303b3e455c426db7",
   "execution_count": 26
  },
  {
   "cell_type": "code",
   "outputs": [
    {
     "data": {
      "text/plain": "0.56"
     },
     "execution_count": 27,
     "metadata": {},
     "output_type": "execute_result"
    }
   ],
   "source": [
    "round(0.555,2)"
   ],
   "metadata": {
    "collapsed": false,
    "ExecuteTime": {
     "end_time": "2024-09-19T11:17:59.941849Z",
     "start_time": "2024-09-19T11:17:59.888493900Z"
    }
   },
   "id": "6ae01b06b60955a",
   "execution_count": 27
  },
  {
   "cell_type": "code",
   "outputs": [
    {
     "name": "stdout",
     "output_type": "stream",
     "text": [
      "0.56\n"
     ]
    }
   ],
   "source": [
    "print(round(0.5555,2))\n"
   ],
   "metadata": {
    "collapsed": false,
    "ExecuteTime": {
     "end_time": "2024-09-19T11:19:41.836441600Z",
     "start_time": "2024-09-19T11:19:41.825024900Z"
    }
   },
   "id": "d608a23dbb5bc773",
   "execution_count": 30
  },
  {
   "cell_type": "code",
   "outputs": [
    {
     "data": {
      "text/plain": "33"
     },
     "execution_count": 32,
     "metadata": {},
     "output_type": "execute_result"
    }
   ],
   "source": [
    "import math;\n",
    "math.ceil(32.3)"
   ],
   "metadata": {
    "collapsed": false,
    "ExecuteTime": {
     "end_time": "2024-09-19T11:20:51.216165800Z",
     "start_time": "2024-09-19T11:20:51.191863400Z"
    }
   },
   "id": "ebe9525bd4d3c8d8",
   "execution_count": 32
  },
  {
   "cell_type": "code",
   "outputs": [
    {
     "data": {
      "text/plain": "3j"
     },
     "execution_count": 34,
     "metadata": {},
     "output_type": "execute_result"
    }
   ],
   "source": [
    "import cmath\n",
    "cmath.sqrt(-9)"
   ],
   "metadata": {
    "collapsed": false,
    "ExecuteTime": {
     "end_time": "2024-09-19T11:21:40.677283200Z",
     "start_time": "2024-09-19T11:21:40.665875300Z"
    }
   },
   "id": "eb565e2c795ff7fe",
   "execution_count": 34
  },
  {
   "cell_type": "code",
   "outputs": [
    {
     "name": "stdout",
     "output_type": "stream",
     "text": [
      "(25+0j)\n"
     ]
    }
   ],
   "source": [
    "a = (3+4j)*(3-4j)\n",
    "print (a)"
   ],
   "metadata": {
    "collapsed": false,
    "ExecuteTime": {
     "end_time": "2024-09-19T11:22:36.957466900Z",
     "start_time": "2024-09-19T11:22:36.909836800Z"
    }
   },
   "id": "9fd6565e746bb047",
   "execution_count": 35
  },
  {
   "cell_type": "code",
   "outputs": [
    {
     "data": {
      "text/plain": "complex"
     },
     "execution_count": 36,
     "metadata": {},
     "output_type": "execute_result"
    }
   ],
   "source": [
    "type(a)"
   ],
   "metadata": {
    "collapsed": false,
    "ExecuteTime": {
     "end_time": "2024-09-19T11:22:53.852503800Z",
     "start_time": "2024-09-19T11:22:53.839137600Z"
    }
   },
   "id": "c449a96b9492b456",
   "execution_count": 36
  },
  {
   "cell_type": "code",
   "outputs": [
    {
     "name": "stdout",
     "output_type": "stream",
     "text": [
      "I guess I  am dreaming,\n"
     ]
    }
   ],
   "source": [
    "if  4 == 4:\n",
    "    print('I guess I  am dreaming,')\n",
    "else:\n",
    "    print('Get up  and  go to work')\n",
    "    print('Clock')    "
   ],
   "metadata": {
    "collapsed": false,
    "ExecuteTime": {
     "end_time": "2024-09-19T11:25:45.160490600Z",
     "start_time": "2024-09-19T11:25:45.147591700Z"
    }
   },
   "id": "43687c90e5b62f2b",
   "execution_count": 41
  },
  {
   "cell_type": "code",
   "outputs": [
    {
     "name": "stdout",
     "output_type": "stream",
     "text": [
      "112131415161718191"
     ]
    }
   ],
   "source": [
    "x = 1\n",
    "while x < 10:\n",
    "    print(x, end='1')\n",
    "    x = x + 1\n",
    "    "
   ],
   "metadata": {
    "collapsed": false,
    "ExecuteTime": {
     "end_time": "2024-09-19T11:28:35.911975600Z",
     "start_time": "2024-09-19T11:28:35.900069300Z"
    }
   },
   "id": "390b2c692017ada7",
   "execution_count": 44
  },
  {
   "cell_type": "code",
   "outputs": [
    {
     "ename": "Terminator",
     "evalue": "",
     "output_type": "error",
     "traceback": [
      "\u001B[1;31m---------------------------------------------------------------------------\u001B[0m",
      "\u001B[1;31mTerminator\u001B[0m                                Traceback (most recent call last)",
      "Input \u001B[1;32mIn [37]\u001B[0m, in \u001B[0;36m<cell line: 10>\u001B[1;34m()\u001B[0m\n\u001B[0;32m      9\u001B[0m y \u001B[38;5;241m=\u001B[39m \u001B[38;5;241m1.0\u001B[39m\n\u001B[0;32m     10\u001B[0m \u001B[38;5;28;01mwhile\u001B[39;00m x \u001B[38;5;241m<\u001B[39m \u001B[38;5;241m1000\u001B[39m:\n\u001B[1;32m---> 11\u001B[0m     \u001B[43mturtle\u001B[49m\u001B[38;5;241;43m.\u001B[39;49m\u001B[43mforward\u001B[49m\u001B[43m(\u001B[49m\u001B[43mx\u001B[49m\u001B[43m)\u001B[49m\n\u001B[0;32m     12\u001B[0m     turtle\u001B[38;5;241m.\u001B[39mright(\u001B[38;5;241m88\u001B[39m)\n\u001B[0;32m     13\u001B[0m     x \u001B[38;5;241m=\u001B[39m x \u001B[38;5;241m+\u001B[39m \u001B[38;5;241m3\u001B[39m\n",
      "File \u001B[1;32m<string>:5\u001B[0m, in \u001B[0;36mforward\u001B[1;34m(distance)\u001B[0m\n",
      "\u001B[1;31mTerminator\u001B[0m: "
     ]
    }
   ],
   "source": [
    "import turtle\n",
    "turtle.reset()\n",
    "turtle.hideturtle()\n",
    "turtle.speed(0)\n",
    "turtle.bgcolor('black')\n",
    "turtle.color(1.0, 1.0, 1.0)\n",
    "\n",
    "x = 0\n",
    "y = 1.0\n",
    "while x < 1000:\n",
    "    turtle.forward(x)\n",
    "    turtle.right(88)\n",
    "    x = x + 3\n",
    "    y = y - 0.001\n",
    "    turtle.color(1.0, y, y)\n",
    "colors = ['red', 'green', 'blue', '']\n",
    "turtle.exitonclick() "
   ],
   "metadata": {
    "collapsed": false,
    "ExecuteTime": {
     "end_time": "2024-09-20T07:07:37.090000500Z",
     "start_time": "2024-09-20T07:07:22.036833700Z"
    }
   },
   "id": "aa39a6171116f500",
   "execution_count": 37
  },
  {
   "cell_type": "code",
   "outputs": [],
   "source": [],
   "metadata": {
    "collapsed": false,
    "ExecuteTime": {
     "end_time": "2024-09-19T11:38:18.347762800Z",
     "start_time": "2024-09-19T11:38:18.332339700Z"
    }
   },
   "id": "aa8e7b149b77458c",
   "execution_count": 60
  },
  {
   "cell_type": "code",
   "outputs": [],
   "source": [
    "s = \"hello\""
   ],
   "metadata": {
    "collapsed": false,
    "ExecuteTime": {
     "end_time": "2024-09-19T11:47:19.653208600Z",
     "start_time": "2024-09-19T11:47:19.632873Z"
    }
   },
   "id": "65a89c0b4cd7a9f7",
   "execution_count": 13
  },
  {
   "cell_type": "code",
   "outputs": [
    {
     "data": {
      "text/plain": "'h'"
     },
     "execution_count": 14,
     "metadata": {},
     "output_type": "execute_result"
    }
   ],
   "source": [
    "s[0]"
   ],
   "metadata": {
    "collapsed": false,
    "ExecuteTime": {
     "end_time": "2024-09-19T11:47:22.789358900Z",
     "start_time": "2024-09-19T11:47:22.779438800Z"
    }
   },
   "id": "f91201d78b8f1610",
   "execution_count": 14
  },
  {
   "cell_type": "code",
   "outputs": [
    {
     "ename": "IndexError",
     "evalue": "tuple index out of range",
     "output_type": "error",
     "traceback": [
      "\u001B[1;31m---------------------------------------------------------------------------\u001B[0m",
      "\u001B[1;31mIndexError\u001B[0m                                Traceback (most recent call last)",
      "\u001B[1;32m<ipython-input-12-22f279f35be6>\u001B[0m in \u001B[0;36m<module>\u001B[1;34m\u001B[0m\n\u001B[1;32m----> 1\u001B[1;33m \u001B[0ms\u001B[0m\u001B[1;33m[\u001B[0m\u001B[1;36m2\u001B[0m\u001B[1;33m]\u001B[0m\u001B[1;33m\u001B[0m\u001B[1;33m\u001B[0m\u001B[0m\n\u001B[0m",
      "\u001B[1;31mIndexError\u001B[0m: tuple index out of range"
     ]
    }
   ],
   "source": [
    "s[2] "
   ],
   "metadata": {
    "collapsed": false,
    "ExecuteTime": {
     "end_time": "2024-09-19T11:47:14.045502300Z",
     "start_time": "2024-09-19T11:47:14.024174400Z"
    }
   },
   "id": "536b4f680fb7b6bc",
   "execution_count": 12
  },
  {
   "cell_type": "code",
   "outputs": [],
   "source": [
    "s = 'Hello', 'd'"
   ],
   "metadata": {
    "collapsed": false,
    "ExecuteTime": {
     "end_time": "2024-09-19T11:48:33.751733900Z",
     "start_time": "2024-09-19T11:48:33.740326900Z"
    }
   },
   "id": "607d13cd5a23e112",
   "execution_count": 17
  },
  {
   "cell_type": "code",
   "outputs": [
    {
     "data": {
      "text/plain": "'Hello'"
     },
     "execution_count": 18,
     "metadata": {},
     "output_type": "execute_result"
    }
   ],
   "source": [
    "s[0]"
   ],
   "metadata": {
    "collapsed": false,
    "ExecuteTime": {
     "end_time": "2024-09-19T11:48:35.062072600Z",
     "start_time": "2024-09-19T11:48:35.036760300Z"
    }
   },
   "id": "57440907b01bc24d",
   "execution_count": 18
  },
  {
   "cell_type": "code",
   "outputs": [
    {
     "ename": "TypeError",
     "evalue": "'tuple' object does not support item assignment",
     "output_type": "error",
     "traceback": [
      "\u001B[1;31m---------------------------------------------------------------------------\u001B[0m",
      "\u001B[1;31mTypeError\u001B[0m                                 Traceback (most recent call last)",
      "\u001B[1;32m<ipython-input-19-4f3c6c83645d>\u001B[0m in \u001B[0;36m<module>\u001B[1;34m\u001B[0m\n\u001B[1;32m----> 1\u001B[1;33m \u001B[0ms\u001B[0m\u001B[1;33m[\u001B[0m\u001B[1;36m0\u001B[0m\u001B[1;33m]\u001B[0m \u001B[1;33m=\u001B[0m \u001B[1;34m'2222'\u001B[0m\u001B[1;33m\u001B[0m\u001B[1;33m\u001B[0m\u001B[0m\n\u001B[0m",
      "\u001B[1;31mTypeError\u001B[0m: 'tuple' object does not support item assignment"
     ]
    }
   ],
   "source": [
    "s[0] = '2222'"
   ],
   "metadata": {
    "collapsed": false,
    "ExecuteTime": {
     "end_time": "2024-09-19T11:49:06.391339900Z",
     "start_time": "2024-09-19T11:49:06.366550700Z"
    }
   },
   "id": "b008d826f3e9551c",
   "execution_count": 19
  },
  {
   "cell_type": "code",
   "outputs": [
    {
     "data": {
      "text/plain": "'Hello'"
     },
     "execution_count": 20,
     "metadata": {},
     "output_type": "execute_result"
    }
   ],
   "source": [
    "s[0]"
   ],
   "metadata": {
    "collapsed": false,
    "ExecuteTime": {
     "end_time": "2024-09-19T11:49:18.873657400Z",
     "start_time": "2024-09-19T11:49:18.854295400Z"
    }
   },
   "id": "e6a05be09e6d3392",
   "execution_count": 20
  },
  {
   "cell_type": "code",
   "outputs": [],
   "source": [
    "s = ('aaa')"
   ],
   "metadata": {
    "collapsed": false,
    "ExecuteTime": {
     "end_time": "2024-09-19T11:50:57.390616200Z",
     "start_time": "2024-09-19T11:50:57.371997800Z"
    }
   },
   "id": "70a6b115dedb650d",
   "execution_count": 24
  },
  {
   "cell_type": "code",
   "outputs": [
    {
     "data": {
      "text/plain": "'AAA'"
     },
     "execution_count": 25,
     "metadata": {},
     "output_type": "execute_result"
    }
   ],
   "source": [
    "s.upper()"
   ],
   "metadata": {
    "collapsed": false,
    "ExecuteTime": {
     "end_time": "2024-09-19T11:50:58.290582400Z",
     "start_time": "2024-09-19T11:50:58.258338Z"
    }
   },
   "id": "5d53e5612798fb4c",
   "execution_count": 25
  },
  {
   "cell_type": "code",
   "outputs": [
    {
     "data": {
      "text/plain": "'aaa'"
     },
     "execution_count": 26,
     "metadata": {},
     "output_type": "execute_result"
    }
   ],
   "source": [
    "s"
   ],
   "metadata": {
    "collapsed": false,
    "ExecuteTime": {
     "end_time": "2024-09-19T11:51:02.010296600Z",
     "start_time": "2024-09-19T11:51:01.982009500Z"
    }
   },
   "id": "66db9cd3f5534e99",
   "execution_count": 26
  },
  {
   "cell_type": "code",
   "outputs": [],
   "source": [
    "long_str = '''hello\n",
    " WORLD!\n",
    " '''"
   ],
   "metadata": {
    "collapsed": false,
    "ExecuteTime": {
     "end_time": "2024-09-19T11:52:32.470709800Z",
     "start_time": "2024-09-19T11:52:32.447382400Z"
    }
   },
   "id": "9ebf6f03b29e8510",
   "execution_count": 29
  },
  {
   "cell_type": "code",
   "outputs": [
    {
     "data": {
      "text/plain": "'hello\\n WORLD!\\n '"
     },
     "execution_count": 30,
     "metadata": {},
     "output_type": "execute_result"
    }
   ],
   "source": [
    "long_str\n"
   ],
   "metadata": {
    "collapsed": false,
    "ExecuteTime": {
     "end_time": "2024-09-19T11:52:34.949145Z",
     "start_time": "2024-09-19T11:52:34.928794600Z"
    }
   },
   "id": "bac42e4fb9d82d29",
   "execution_count": 30
  },
  {
   "cell_type": "code",
   "outputs": [
    {
     "name": "stdout",
     "output_type": "stream",
     "text": [
      "d:\\myfiles\\notebook\n"
     ]
    }
   ],
   "source": [
    "print('d:\\\\myfiles\\\\notebook')"
   ],
   "metadata": {
    "collapsed": false,
    "ExecuteTime": {
     "end_time": "2024-09-19T11:54:18.464340400Z",
     "start_time": "2024-09-19T11:54:18.422656400Z"
    }
   },
   "id": "a7a5120fdec65e6d",
   "execution_count": 31
  },
  {
   "cell_type": "code",
   "outputs": [
    {
     "name": "stdout",
     "output_type": "stream",
     "text": [
      "d:\\\\myfiles\\\\notebook\n"
     ]
    }
   ],
   "source": [
    "print(r'd:\\\\myfiles\\\\notebook')"
   ],
   "metadata": {
    "collapsed": false,
    "ExecuteTime": {
     "end_time": "2024-09-19T11:54:40.773083600Z",
     "start_time": "2024-09-19T11:54:40.729417200Z"
    }
   },
   "id": "1ecd99b904333000",
   "execution_count": 32
  },
  {
   "cell_type": "code",
   "outputs": [
    {
     "data": {
      "text/plain": "15"
     },
     "execution_count": 34,
     "metadata": {},
     "output_type": "execute_result"
    }
   ],
   "source": [
    "(1 + 2 + 3 \n",
    " + 4  + 5)\n"
   ],
   "metadata": {
    "collapsed": false,
    "ExecuteTime": {
     "end_time": "2024-09-19T11:56:09.676457600Z",
     "start_time": "2024-09-19T11:56:09.638762700Z"
    }
   },
   "id": "d1bc9cf0c1454c22",
   "execution_count": 34
  },
  {
   "cell_type": "code",
   "outputs": [],
   "source": [
    "list1 = [1,2,3,4,5,6,7,8,9]\n"
   ],
   "metadata": {
    "collapsed": false,
    "ExecuteTime": {
     "end_time": "2024-09-19T11:57:14.520210200Z",
     "start_time": "2024-09-19T11:57:14.489952900Z"
    }
   },
   "id": "2f1b1ec81c8d8675",
   "execution_count": 35
  },
  {
   "cell_type": "code",
   "outputs": [
    {
     "data": {
      "text/plain": "1"
     },
     "execution_count": 36,
     "metadata": {},
     "output_type": "execute_result"
    }
   ],
   "source": [
    "list1[0]"
   ],
   "metadata": {
    "collapsed": false,
    "ExecuteTime": {
     "end_time": "2024-09-19T11:57:22.264532400Z",
     "start_time": "2024-09-19T11:57:22.238231900Z"
    }
   },
   "id": "bdcba7d6be0e0f15",
   "execution_count": 36
  },
  {
   "cell_type": "code",
   "outputs": [],
   "source": [
    "list1[1] = 123\n",
    "\n"
   ],
   "metadata": {
    "collapsed": false,
    "ExecuteTime": {
     "end_time": "2024-09-19T11:58:17.953465800Z",
     "start_time": "2024-09-19T11:58:17.921693600Z"
    }
   },
   "id": "baabfed01c6103a",
   "execution_count": 37
  },
  {
   "cell_type": "code",
   "outputs": [
    {
     "ename": "NameError",
     "evalue": "name 'LIST1' is not defined",
     "output_type": "error",
     "traceback": [
      "\u001B[1;31m---------------------------------------------------------------------------\u001B[0m",
      "\u001B[1;31mNameError\u001B[0m                                 Traceback (most recent call last)",
      "\u001B[1;32m<ipython-input-38-120106ff3a83>\u001B[0m in \u001B[0;36m<module>\u001B[1;34m\u001B[0m\n\u001B[1;32m----> 1\u001B[1;33m \u001B[0mLIST1\u001B[0m\u001B[1;33m[\u001B[0m\u001B[1;36m1\u001B[0m\u001B[1;33m]\u001B[0m\u001B[1;33m\u001B[0m\u001B[1;33m\u001B[0m\u001B[0m\n\u001B[0m",
      "\u001B[1;31mNameError\u001B[0m: name 'LIST1' is not defined"
     ]
    }
   ],
   "source": [
    "LIST1[1]"
   ],
   "metadata": {
    "collapsed": false,
    "ExecuteTime": {
     "end_time": "2024-09-19T11:58:25.053822800Z",
     "start_time": "2024-09-19T11:58:25.016609700Z"
    }
   },
   "id": "ce8b69b0607323ec",
   "execution_count": 38
  },
  {
   "cell_type": "code",
   "outputs": [
    {
     "data": {
      "text/plain": "123"
     },
     "execution_count": 39,
     "metadata": {},
     "output_type": "execute_result"
    }
   ],
   "source": [
    "list1[1]"
   ],
   "metadata": {
    "collapsed": false,
    "ExecuteTime": {
     "end_time": "2024-09-19T11:58:33.340527800Z",
     "start_time": "2024-09-19T11:58:33.311639Z"
    }
   },
   "id": "386d6858fc56c7b3",
   "execution_count": 39
  },
  {
   "cell_type": "code",
   "outputs": [],
   "source": [
    "list1[0] = 'numbers'"
   ],
   "metadata": {
    "collapsed": false,
    "ExecuteTime": {
     "end_time": "2024-09-19T11:59:04.622101800Z",
     "start_time": "2024-09-19T11:59:04.599782300Z"
    }
   },
   "id": "5fe8778d9864cb45",
   "execution_count": 40
  },
  {
   "cell_type": "code",
   "outputs": [
    {
     "data": {
      "text/plain": "['numbers', 123, 3, 4, 5, 6, 7, 8, 9]"
     },
     "execution_count": 41,
     "metadata": {},
     "output_type": "execute_result"
    }
   ],
   "source": [
    "list1"
   ],
   "metadata": {
    "collapsed": false,
    "ExecuteTime": {
     "end_time": "2024-09-19T11:59:13.893124800Z",
     "start_time": "2024-09-19T11:59:13.847978500Z"
    }
   },
   "id": "9025b187615bfed5",
   "execution_count": 41
  },
  {
   "cell_type": "code",
   "outputs": [],
   "source": [
    "list1[3] = [1,2,3,4,5]"
   ],
   "metadata": {
    "collapsed": false,
    "ExecuteTime": {
     "end_time": "2024-09-19T11:59:56.821208600Z",
     "start_time": "2024-09-19T11:59:56.784007700Z"
    }
   },
   "id": "57094f75df8244bb",
   "execution_count": 42
  },
  {
   "cell_type": "code",
   "outputs": [
    {
     "data": {
      "text/plain": "['numbers', 123, 3, [1, 2, 3, 4, 5], 5, 6, 7, 8, 9]"
     },
     "execution_count": 43,
     "metadata": {},
     "output_type": "execute_result"
    }
   ],
   "source": [
    "list1\\"
   ],
   "metadata": {
    "collapsed": false,
    "ExecuteTime": {
     "end_time": "2024-09-19T12:00:00.643276900Z",
     "start_time": "2024-09-19T12:00:00.617978500Z"
    }
   },
   "id": "460430a6952073e6",
   "execution_count": 43
  },
  {
   "cell_type": "code",
   "outputs": [
    {
     "data": {
      "text/plain": "9"
     },
     "execution_count": 45,
     "metadata": {},
     "output_type": "execute_result"
    }
   ],
   "source": [
    "list1[-1]"
   ],
   "metadata": {
    "collapsed": false,
    "ExecuteTime": {
     "end_time": "2024-09-19T12:00:46.566644600Z",
     "start_time": "2024-09-19T12:00:46.533091100Z"
    }
   },
   "id": "1b7c6ce72370757d",
   "execution_count": 45
  },
  {
   "cell_type": "code",
   "outputs": [
    {
     "data": {
      "text/plain": "[123, [1, 2, 3, 4, 5]]"
     },
     "execution_count": 48,
     "metadata": {},
     "output_type": "execute_result"
    }
   ],
   "source": [
    "list1[1:5:2]"
   ],
   "metadata": {
    "collapsed": false,
    "ExecuteTime": {
     "end_time": "2024-09-19T12:02:37.504539200Z",
     "start_time": "2024-09-19T12:02:37.471184900Z"
    }
   },
   "id": "b6a416e5ca3cbdb5",
   "execution_count": 48
  },
  {
   "cell_type": "code",
   "outputs": [
    {
     "ename": "TypeError",
     "evalue": "'int' object is not subscriptable",
     "output_type": "error",
     "traceback": [
      "\u001B[1;31m---------------------------------------------------------------------------\u001B[0m",
      "\u001B[1;31mTypeError\u001B[0m                                 Traceback (most recent call last)",
      "\u001B[1;32m<ipython-input-49-b329935b66f5>\u001B[0m in \u001B[0;36m<module>\u001B[1;34m\u001B[0m\n\u001B[1;32m----> 1\u001B[1;33m \u001B[0mlist1\u001B[0m\u001B[1;33m[\u001B[0m\u001B[1;36m3\u001B[0m\u001B[1;33m[\u001B[0m\u001B[1;36m2\u001B[0m\u001B[1;33m]\u001B[0m\u001B[1;33m]\u001B[0m\u001B[1;33m\u001B[0m\u001B[1;33m\u001B[0m\u001B[0m\n\u001B[0m",
      "\u001B[1;31mTypeError\u001B[0m: 'int' object is not subscriptable"
     ]
    }
   ],
   "source": [
    "list1[3[2]]"
   ],
   "metadata": {
    "collapsed": false,
    "ExecuteTime": {
     "end_time": "2024-09-19T12:03:17.540853700Z",
     "start_time": "2024-09-19T12:03:17.502146500Z"
    }
   },
   "id": "6b61df867e86592d",
   "execution_count": 49
  },
  {
   "cell_type": "code",
   "outputs": [
    {
     "data": {
      "text/plain": "[9, 8, 7, 6, 5, [1, 2, 3, 4, 5], 3, 123, 'numbers']"
     },
     "execution_count": 50,
     "metadata": {},
     "output_type": "execute_result"
    }
   ],
   "source": [
    "list1[-1: :-1]"
   ],
   "metadata": {
    "collapsed": false,
    "ExecuteTime": {
     "end_time": "2024-09-19T12:04:40.382137800Z",
     "start_time": "2024-09-19T12:04:40.344922600Z"
    }
   },
   "id": "e4a0b0b4e3435175",
   "execution_count": 50
  },
  {
   "cell_type": "code",
   "outputs": [],
   "source": [
    "list1.clear()"
   ],
   "metadata": {
    "collapsed": false,
    "ExecuteTime": {
     "end_time": "2024-09-19T12:05:51.384742200Z",
     "start_time": "2024-09-19T12:05:51.344549400Z"
    }
   },
   "id": "fa5d0b2b3e0b0a41",
   "execution_count": 51
  },
  {
   "cell_type": "code",
   "outputs": [],
   "source": [
    "list1.clear()"
   ],
   "metadata": {
    "collapsed": false,
    "ExecuteTime": {
     "end_time": "2024-09-19T12:06:49.529147700Z",
     "start_time": "2024-09-19T12:06:49.500391700Z"
    }
   },
   "id": "89e72ab52c8f6b98",
   "execution_count": 53
  },
  {
   "cell_type": "code",
   "outputs": [
    {
     "data": {
      "text/plain": "[0, 1, 2, 3, 4, 5, 6, 7, 8, 9]"
     },
     "execution_count": 54,
     "metadata": {},
     "output_type": "execute_result"
    }
   ],
   "source": [
    "list(range(10))"
   ],
   "metadata": {
    "collapsed": false,
    "ExecuteTime": {
     "end_time": "2024-09-19T12:07:16.822405600Z",
     "start_time": "2024-09-19T12:07:16.798101300Z"
    }
   },
   "id": "9b485ac422fd13c3",
   "execution_count": 54
  },
  {
   "cell_type": "code",
   "outputs": [],
   "source": [
    "list1= list\n"
   ],
   "metadata": {
    "collapsed": false,
    "ExecuteTime": {
     "end_time": "2024-09-19T12:07:59.830225600Z",
     "start_time": "2024-09-19T12:07:59.800959800Z"
    }
   },
   "id": "6f994bbda2f7e46a",
   "execution_count": 59
  },
  {
   "cell_type": "code",
   "outputs": [
    {
     "data": {
      "text/plain": "list"
     },
     "execution_count": 60,
     "metadata": {},
     "output_type": "execute_result"
    }
   ],
   "source": [
    "list1"
   ],
   "metadata": {
    "collapsed": false,
    "ExecuteTime": {
     "end_time": "2024-09-19T12:08:01.742278200Z",
     "start_time": "2024-09-19T12:08:01.713505300Z"
    }
   },
   "id": "7d5265496c8b1220",
   "execution_count": 60
  },
  {
   "cell_type": "code",
   "outputs": [
    {
     "data": {
      "text/plain": "type"
     },
     "execution_count": 62,
     "metadata": {},
     "output_type": "execute_result"
    }
   ],
   "source": [
    "type(list1)"
   ],
   "metadata": {
    "collapsed": false,
    "ExecuteTime": {
     "end_time": "2024-09-19T12:08:18.318152900Z",
     "start_time": "2024-09-19T12:08:18.289385900Z"
    }
   },
   "id": "a03560dbd8e66975",
   "execution_count": 62
  },
  {
   "cell_type": "code",
   "outputs": [],
   "source": [
    "alist = list('hello')"
   ],
   "metadata": {
    "collapsed": false,
    "ExecuteTime": {
     "end_time": "2024-09-19T12:09:08.367838Z",
     "start_time": "2024-09-19T12:09:08.326651600Z"
    }
   },
   "id": "99ad790ebe7ee2b7",
   "execution_count": 63
  },
  {
   "cell_type": "code",
   "outputs": [
    {
     "name": "stdout",
     "output_type": "stream",
     "text": [
      "['h', 'e', 'l', 'l', 'o']\n"
     ]
    }
   ],
   "source": [
    "print(alist)"
   ],
   "metadata": {
    "collapsed": false,
    "ExecuteTime": {
     "end_time": "2024-09-19T12:09:17.645239300Z",
     "start_time": "2024-09-19T12:09:17.604567500Z"
    }
   },
   "id": "1d5a193d3f0bc24b",
   "execution_count": 64
  },
  {
   "cell_type": "code",
   "outputs": [
    {
     "data": {
      "text/plain": "'hello'"
     },
     "execution_count": 65,
     "metadata": {},
     "output_type": "execute_result"
    }
   ],
   "source": [
    "''.join(alist)\n"
   ],
   "metadata": {
    "collapsed": false,
    "ExecuteTime": {
     "end_time": "2024-09-19T12:10:11.177863Z",
     "start_time": "2024-09-19T12:10:11.148104200Z"
    }
   },
   "id": "b58a8a74acfbde49",
   "execution_count": 65
  },
  {
   "cell_type": "code",
   "outputs": [
    {
     "data": {
      "text/plain": "False"
     },
     "execution_count": 67,
     "metadata": {},
     "output_type": "execute_result"
    }
   ],
   "source": [
    "3 in alist"
   ],
   "metadata": {
    "collapsed": false,
    "ExecuteTime": {
     "end_time": "2024-09-19T12:10:59.843574900Z",
     "start_time": "2024-09-19T12:10:59.798107900Z"
    }
   },
   "id": "9a137a054ca47e84",
   "execution_count": 67
  },
  {
   "cell_type": "code",
   "outputs": [
    {
     "ename": "NameError",
     "evalue": "name 'a' is not defined",
     "output_type": "error",
     "traceback": [
      "\u001B[1;31m---------------------------------------------------------------------------\u001B[0m",
      "\u001B[1;31mNameError\u001B[0m                                 Traceback (most recent call last)",
      "\u001B[1;32m<ipython-input-68-7045bc3d9ec7>\u001B[0m in \u001B[0;36m<module>\u001B[1;34m\u001B[0m\n\u001B[0;32m      1\u001B[0m \u001B[0mch\u001B[0m \u001B[1;33m=\u001B[0m \u001B[0minput\u001B[0m\u001B[1;33m(\u001B[0m\u001B[1;34m'Please input a character: '\u001B[0m\u001B[1;33m)\u001B[0m\u001B[1;33m\u001B[0m\u001B[1;33m\u001B[0m\u001B[0m\n\u001B[1;32m----> 2\u001B[1;33m \u001B[0mA\u001B[0m \u001B[1;33m=\u001B[0m \u001B[1;33m[\u001B[0m\u001B[0ma\u001B[0m\u001B[1;33m,\u001B[0m \u001B[0me\u001B[0m\u001B[1;33m,\u001B[0m \u001B[0mi\u001B[0m\u001B[1;33m,\u001B[0m \u001B[0mo\u001B[0m\u001B[1;33m,\u001B[0m \u001B[0mu\u001B[0m\u001B[1;33m]\u001B[0m\u001B[1;33m\u001B[0m\u001B[1;33m\u001B[0m\u001B[0m\n\u001B[0m\u001B[0;32m      3\u001B[0m \u001B[1;32mif\u001B[0m \u001B[0mch\u001B[0m \u001B[1;32min\u001B[0m \u001B[1;33m[\u001B[0m\u001B[0mA\u001B[0m\u001B[1;33m]\u001B[0m\u001B[1;33m:\u001B[0m\u001B[1;33m\u001B[0m\u001B[1;33m\u001B[0m\u001B[0m\n\u001B[0;32m      4\u001B[0m     \u001B[0mprint\u001B[0m\u001B[1;33m(\u001B[0m\u001B[1;34m''\u001B[0m\u001B[1;33m)\u001B[0m\u001B[1;33m\u001B[0m\u001B[1;33m\u001B[0m\u001B[0m\n",
      "\u001B[1;31mNameError\u001B[0m: name 'a' is not defined"
     ]
    }
   ],
   "source": [
    "ch = input('Please input a character: ')\n",
    "A = [a, e, i, o, u]\n",
    "if ch in [A]:\n",
    "    print('')"
   ],
   "metadata": {
    "collapsed": false,
    "ExecuteTime": {
     "end_time": "2024-09-19T12:13:42.803315900Z",
     "start_time": "2024-09-19T12:13:41.012958200Z"
    }
   },
   "id": "f710702d86249c74",
   "execution_count": 68
  },
  {
   "cell_type": "code",
   "outputs": [
    {
     "name": "stdout",
     "output_type": "stream",
     "text": [
      "1 ^3 = 1\n",
      "2 ^3 = 8\n",
      "3 ^3 = 27\n",
      "4 ^3 = 64\n",
      "5 ^3 = 125\n",
      "6 ^3 = 216\n",
      "7 ^3 = 343\n",
      "8 ^3 = 512\n",
      "9 ^3 = 729\n",
      "10 ^3 = 1000\n"
     ]
    }
   ],
   "source": [
    "for number in range(1, 11):\n",
    "    print(f'{number} ^3 = {number**3}')"
   ],
   "metadata": {
    "collapsed": false,
    "ExecuteTime": {
     "end_time": "2024-09-19T12:17:20.965996Z",
     "start_time": "2024-09-19T12:17:20.938220600Z"
    }
   },
   "id": "14dc81fc9236dba6",
   "execution_count": 69
  },
  {
   "cell_type": "code",
   "outputs": [
    {
     "name": "stdout",
     "output_type": "stream",
     "text": [
      "                   * \n",
      "                 * * * \n",
      "               * * * * * \n",
      "             * * * * * * * \n",
      "           * * * * * * * * * \n",
      "         * * * * * * * * * * * \n",
      "       * * * * * * * * * * * * * \n",
      "     * * * * * * * * * * * * * * * \n",
      "   * * * * * * * * * * * * * * * * * \n",
      " * * * * * * * * * * * * * * * * * * * \n"
     ]
    }
   ],
   "source": [
    "for i in range(10):\n",
    "    print((9-i)*'  ',(2*i + 1)*'* ')"
   ],
   "metadata": {
    "collapsed": false,
    "ExecuteTime": {
     "end_time": "2024-09-19T12:22:23.826199700Z",
     "start_time": "2024-09-19T12:22:23.797929Z"
    }
   },
   "id": "6ab8b128a9f8c2d6",
   "execution_count": 74
  },
  {
   "cell_type": "code",
   "outputs": [
    {
     "name": "stdout",
     "output_type": "stream",
     "text": [
      "1\n",
      "1 X 1 = 1   2\n",
      "1 X 2 = 2   2 X 2 = 4   3\n",
      "1 X 3 = 3   2 X 3 = 6   3 X 3 = 9   4\n",
      "1 X 4 = 4   2 X 4 = 8   3 X 4 = 12  4 X 4 = 16  5\n",
      "1 X 5 = 5   2 X 5 = 10  3 X 5 = 15  4 X 5 = 20  5 X 5 = 25  6\n",
      "1 X 6 = 6   2 X 6 = 12  3 X 6 = 18  4 X 6 = 24  5 X 6 = 30  6 X 6 = 36  7\n",
      "1 X 7 = 7   2 X 7 = 14  3 X 7 = 21  4 X 7 = 28  5 X 7 = 35  6 X 7 = 42  7 X 7 = 49  8\n",
      "1 X 8 = 8   2 X 8 = 16  3 X 8 = 24  4 X 8 = 32  5 X 8 = 40  6 X 8 = 48  7 X 8 = 56  8 X 8 = 64  9\n",
      "1 X 9 = 9   2 X 9 = 18  3 X 9 = 27  4 X 9 = 36  5 X 9 = 45  6 X 9 = 54  7 X 9 = 63  8 X 9 = 72  9 X 9 = 81  "
     ]
    }
   ],
   "source": [
    "for i in range(1, 10):\n",
    "    print(i)\n",
    "    for j in range(1, i+1):\n",
    "        print(j, 'X',i ,'=', f'{i * j :<4}', end='')\n",
    "        \n",
    "\n"
   ],
   "metadata": {
    "collapsed": false,
    "ExecuteTime": {
     "end_time": "2024-09-20T03:34:40.842330500Z",
     "start_time": "2024-09-20T03:34:40.796443100Z"
    }
   },
   "id": "53d5a15a3719c08e",
   "execution_count": 36
  },
  {
   "cell_type": "code",
   "outputs": [],
   "source": [],
   "metadata": {
    "collapsed": false
   },
   "id": "93a19b58b70d9051"
  }
 ],
 "metadata": {
  "kernelspec": {
   "display_name": "Python 3",
   "language": "python",
   "name": "python3"
  },
  "language_info": {
   "codemirror_mode": {
    "name": "ipython",
    "version": 2
   },
   "file_extension": ".py",
   "mimetype": "text/x-python",
   "name": "python",
   "nbconvert_exporter": "python",
   "pygments_lexer": "ipython2",
   "version": "2.7.6"
  }
 },
 "nbformat": 4,
 "nbformat_minor": 5
}
